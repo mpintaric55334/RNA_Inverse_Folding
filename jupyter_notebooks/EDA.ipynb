{
 "cells": [
  {
   "cell_type": "code",
   "execution_count": 4,
   "id": "7f96bdf6-1f72-4b80-955a-e1e7bd28e752",
   "metadata": {},
   "outputs": [],
   "source": [
    "import numpy as np\n",
    "import pandas as pd\n",
    "import matplotlib.pyplot as plt\n",
    "import matplotlib\n",
    "from Bio import SeqIO\n",
    "import os"
   ]
  },
  {
   "cell_type": "code",
   "execution_count": 6,
   "id": "b070e421-7348-4a09-9c05-3af8b36c0532",
   "metadata": {},
   "outputs": [],
   "source": [
    "def parse_bpseq_file(file_path,all_pairs):\n",
    "    with open(file_path, 'r') as file:\n",
    "        seq = ''\n",
    "        pairs = {} \n",
    "        pairing_distances = np.array([])\n",
    "        for line in file:\n",
    "            if \"#\" in line:\n",
    "                continue\n",
    "            parts = line.strip().split()\n",
    "            if len(parts) == 3:\n",
    "                pos, nucleotide, pair_pos = parts\n",
    "                pos,pair_pos = int(pos), int(pair_pos)\n",
    "                smaller_pos = np.min([pos,pair_pos])\n",
    "                larger_pos = np.max([pos,pair_pos])\n",
    "                seq += nucleotide\n",
    "                if pair_pos > 0:\n",
    "                    pairing_distances = np.append(pairing_distances, larger_pos - smaller_pos)\n",
    "                    pairs[str(smaller_pos)] = larger_pos\n",
    "        for smaller_pos in pairs:\n",
    "            larger_pos = pairs[str(smaller_pos)]\n",
    "            base1 = seq[int(smaller_pos)-1]\n",
    "            base2 = seq[larger_pos-1]\n",
    "            pair = base1 + base2\n",
    "            if pair not in all_pairs:\n",
    "                all_pairs[pair] = 0\n",
    "            all_pairs[pair] += 1\n",
    "    return len(seq), np.mean(pairing_distances)\n",
    "\n",
    "def parse_bpseq_folder(folder_path):\n",
    "\n",
    "    all_pairs = {}\n",
    "    sequence_lengths = np.array([])\n",
    "    average_pairing_distances = np.array([])\n",
    "\n",
    "    for filename in os.listdir(folder_path):\n",
    "        file_path = os.path.join(folder_path, filename)\n",
    "        if os.path.isfile(file_path):\n",
    "            seq_len, pairing_distance = parse_bpseq_file(file_path,all_pairs)\n",
    "            sequence_lengths = np.append(sequence_lengths, seq_len)\n",
    "            average_pairing_distances = np.append(average_pairing_distances, pairing_distance)\n",
    "    return all_pairs, sequence_lengths, average_pairing_distances\n",
    "    "
   ]
  },
  {
   "cell_type": "code",
   "execution_count": 7,
   "id": "85cf312c-3d5d-4b39-acc6-95ba2c43390e",
   "metadata": {},
   "outputs": [
    {
     "name": "stderr",
     "output_type": "stream",
     "text": [
      "/home/mpintaric/miniconda3/envs/matija_rna/lib/python3.11/site-packages/numpy/core/fromnumeric.py:3504: RuntimeWarning: Mean of empty slice.\n",
      "  return _methods._mean(a, axis=axis, dtype=dtype,\n",
      "/home/mpintaric/miniconda3/envs/matija_rna/lib/python3.11/site-packages/numpy/core/_methods.py:129: RuntimeWarning: invalid value encountered in scalar divide\n",
      "  ret = ret.dtype.type(ret / rcount)\n"
     ]
    }
   ],
   "source": [
    "all_pairs, sequence_lengths, average_pairing_distances = parse_bpseq_folder(\"../../data/bpRNA_1m_90_BPSEQLFILES\")"
   ]
  },
  {
   "cell_type": "code",
   "execution_count": 8,
   "id": "cbbe7bf9-2f8c-4b27-95f5-456f2101a39a",
   "metadata": {},
   "outputs": [
    {
     "data": {
      "text/plain": [
       "{'GC': 396234,\n",
       " 'CG': 364620,\n",
       " 'AC': 13021,\n",
       " 'GG': 11812,\n",
       " 'UA': 218269,\n",
       " 'UG': 86131,\n",
       " 'CU': 9533,\n",
       " 'AU': 200066,\n",
       " 'GU': 89579,\n",
       " 'UU': 18956,\n",
       " 'AG': 15647,\n",
       " 'CA': 13028,\n",
       " 'CC': 7741,\n",
       " 'UN': 590,\n",
       " 'NC': 527,\n",
       " 'CN': 773,\n",
       " 'GN': 860,\n",
       " 'GA': 16875,\n",
       " 'AA': 10481,\n",
       " 'NG': 680,\n",
       " 'UC': 9047,\n",
       " 'NA': 275,\n",
       " 'SU': 1,\n",
       " 'YG': 38,\n",
       " 'GY': 37,\n",
       " 'VU': 3,\n",
       " 'NU': 328,\n",
       " 'gC': 161,\n",
       " 'aU': 74,\n",
       " 'uG': 73,\n",
       " 'NN': 908,\n",
       " 'AH': 3,\n",
       " 'UH': 5,\n",
       " 'GR': 6,\n",
       " 'GW': 4,\n",
       " 'UR': 27,\n",
       " 'AN': 273,\n",
       " 'GM': 14,\n",
       " 'cG': 175,\n",
       " 'uA': 59,\n",
       " 'SG': 17,\n",
       " 'AK': 6,\n",
       " 'AW': 6,\n",
       " 'UM': 9,\n",
       " 'SC': 17,\n",
       " 'HG': 19,\n",
       " 'VC': 2,\n",
       " 'au': 209,\n",
       " 'gc': 357,\n",
       " 'cg': 199,\n",
       " 'CR': 29,\n",
       " 'AM': 1,\n",
       " 'MG': 16,\n",
       " 'gu': 29,\n",
       " 'AY': 6,\n",
       " 'Cg': 29,\n",
       " 'Gc': 78,\n",
       " 'cu': 6,\n",
       " 'ga': 17,\n",
       " 'ag': 18,\n",
       " 'aA': 4,\n",
       " 'gU': 21,\n",
       " 'gG': 3,\n",
       " 'Aa': 8,\n",
       " 'Ca': 7,\n",
       " 'Ug': 11,\n",
       " 'Ga': 8,\n",
       " 'Ac': 11,\n",
       " 'Gu': 12,\n",
       " 'HU': 3,\n",
       " 'RC': 29,\n",
       " 'Ua': 1,\n",
       " 'CS': 11,\n",
       " 'cc': 5,\n",
       " 'cA': 3,\n",
       " 'ac': 4,\n",
       " 'NR': 2,\n",
       " 'Ag': 1,\n",
       " 'SA': 2,\n",
       " 'WG': 9,\n",
       " 'WA': 8,\n",
       " 'UX': 2,\n",
       " 'NY': 2,\n",
       " 'MC': 4,\n",
       " 'HA': 5,\n",
       " 'Am': 1,\n",
       " 'wG': 1,\n",
       " 'gg': 5,\n",
       " 'aa': 6,\n",
       " 'Au': 21,\n",
       " 'GH': 16,\n",
       " 'UW': 12,\n",
       " 'RG': 5,\n",
       " 'YR': 5,\n",
       " 'RU': 17,\n",
       " 'UD': 4,\n",
       " 'DN': 1,\n",
       " 'CK': 5,\n",
       " 'KC': 9,\n",
       " 'RA': 5,\n",
       " 'YA': 14,\n",
       " 'ua': 4,\n",
       " 'MN': 1,\n",
       " 'CM': 1,\n",
       " 'AR': 1,\n",
       " 'YN': 1,\n",
       " 'UY': 4,\n",
       " 'PG': 1,\n",
       " 'KU': 3,\n",
       " 'HK': 3,\n",
       " 'DU': 2,\n",
       " 'GS': 4,\n",
       " 'WC': 2,\n",
       " 'GK': 3,\n",
       " 'CV': 2,\n",
       " 'NM': 2,\n",
       " 'UK': 4,\n",
       " 'Ax': 2,\n",
       " 'XG': 1,\n",
       " 'KB': 2,\n",
       " 'KG': 2,\n",
       " 'aG': 2,\n",
       " 'Cc': 1,\n",
       " 'WU': 4,\n",
       " 'KA': 3,\n",
       " 'YU': 2,\n",
       " 'GV': 2,\n",
       " 'cC': 1,\n",
       " 'CY': 2,\n",
       " 'BC': 1,\n",
       " 'KS': 1,\n",
       " 'MU': 3,\n",
       " 'uc': 1,\n",
       " 'uu': 1,\n",
       " 'gA': 1,\n",
       " 'AS': 1,\n",
       " 'UB': 1,\n",
       " 'RM': 2,\n",
       " 'uU': 1,\n",
       " 'HC': 2,\n",
       " 'RR': 1,\n",
       " 'RN': 1,\n",
       " 'KW': 1,\n",
       " 'YC': 1,\n",
       " 'AV': 1,\n",
       " 'YS': 1,\n",
       " 'CH': 1}"
      ]
     },
     "execution_count": 8,
     "metadata": {},
     "output_type": "execute_result"
    }
   ],
   "source": [
    "all_pairs"
   ]
  },
  {
   "cell_type": "code",
   "execution_count": 9,
   "id": "7e7b1fd1-526b-42e8-a16c-71e657a86da9",
   "metadata": {},
   "outputs": [
    {
     "name": "stdout",
     "output_type": "stream",
     "text": [
      "Shortest sequence length: 11.0\n",
      "Longest sequence length: 4381.0\n",
      "Average sequence length: 211.85784279168135\n",
      "Average distance between pairs: 44.91262276009914\n"
     ]
    }
   ],
   "source": [
    "print(\"Shortest sequence length:\",np.min(sequence_lengths))\n",
    "print(\"Longest sequence length:\",np.max(sequence_lengths))\n",
    "print(\"Average sequence length:\",np.mean(sequence_lengths))\n",
    "\n",
    "print(\"Average distance between pairs:\",np.nanmean(average_pairing_distances))"
   ]
  },
  {
   "cell_type": "code",
   "execution_count": 10,
   "id": "ffde41da-f3af-42b3-a1be-1a28814ed93f",
   "metadata": {},
   "outputs": [],
   "source": [
    "index_map = {\"A\":0,\"G\":1,\"C\":2,\"U\":3}\n",
    "bases_matrix = np.zeros((4,4))\n",
    "valid_bases = \"AGCU\"\n",
    "sum = 0\n",
    "sum_bases = 0\n",
    "for key in all_pairs:\n",
    "    if key[0] in valid_bases and key[1] in valid_bases:\n",
    "        i1 = index_map[key[0]]\n",
    "        i2 = index_map[key[1]]\n",
    "        bases_matrix[i1][i2] += all_pairs[key]\n",
    "        sum_bases += all_pairs[key]\n",
    "    sum += all_pairs[key]\n",
    "    "
   ]
  },
  {
   "cell_type": "code",
   "execution_count": 11,
   "id": "9edeaf0e-c92a-4429-a419-b4cc68ba51a6",
   "metadata": {},
   "outputs": [
    {
     "name": "stdout",
     "output_type": "stream",
     "text": [
      "Percentage of pairs between cannonical bases in relation to all other pairs 99.50611096143419 %\n"
     ]
    }
   ],
   "source": [
    "print(\"Percentage of pairs between cannonical bases in relation to all other pairs\", sum_bases/sum *100,\"%\")"
   ]
  },
  {
   "cell_type": "code",
   "execution_count": 12,
   "id": "467b5dab-1ebf-49fe-ac60-f5b02e690d9f",
   "metadata": {},
   "outputs": [
    {
     "data": {
      "text/html": [
       "<style type=\"text/css\">\n",
       "#T_90042_row0_col0, #T_90042_row1_col1, #T_90042_row2_col2, #T_90042_row2_col3, #T_90042_row3_col2 {\n",
       "  background-color: #440154;\n",
       "  color: #f1f1f1;\n",
       "}\n",
       "#T_90042_row0_col1 {\n",
       "  background-color: #450457;\n",
       "  color: #f1f1f1;\n",
       "}\n",
       "#T_90042_row0_col2, #T_90042_row2_col0 {\n",
       "  background-color: #450559;\n",
       "  color: #f1f1f1;\n",
       "}\n",
       "#T_90042_row0_col3, #T_90042_row1_col2, #T_90042_row2_col1, #T_90042_row3_col0 {\n",
       "  background-color: #fde725;\n",
       "  color: #000000;\n",
       "}\n",
       "#T_90042_row1_col0 {\n",
       "  background-color: #460b5e;\n",
       "  color: #f1f1f1;\n",
       "}\n",
       "#T_90042_row1_col3 {\n",
       "  background-color: #287d8e;\n",
       "  color: #f1f1f1;\n",
       "}\n",
       "#T_90042_row3_col1 {\n",
       "  background-color: #404688;\n",
       "  color: #f1f1f1;\n",
       "}\n",
       "#T_90042_row3_col3 {\n",
       "  background-color: #471365;\n",
       "  color: #f1f1f1;\n",
       "}\n",
       "</style>\n",
       "<table id=\"T_90042\">\n",
       "  <thead>\n",
       "    <tr>\n",
       "      <th class=\"blank level0\" >&nbsp;</th>\n",
       "      <th id=\"T_90042_level0_col0\" class=\"col_heading level0 col0\" >A</th>\n",
       "      <th id=\"T_90042_level0_col1\" class=\"col_heading level0 col1\" >G</th>\n",
       "      <th id=\"T_90042_level0_col2\" class=\"col_heading level0 col2\" >C</th>\n",
       "      <th id=\"T_90042_level0_col3\" class=\"col_heading level0 col3\" >U</th>\n",
       "    </tr>\n",
       "  </thead>\n",
       "  <tbody>\n",
       "    <tr>\n",
       "      <th id=\"T_90042_level0_row0\" class=\"row_heading level0 row0\" >A</th>\n",
       "      <td id=\"T_90042_row0_col0\" class=\"data row0 col0\" >10481.000000</td>\n",
       "      <td id=\"T_90042_row0_col1\" class=\"data row0 col1\" >15647.000000</td>\n",
       "      <td id=\"T_90042_row0_col2\" class=\"data row0 col2\" >13021.000000</td>\n",
       "      <td id=\"T_90042_row0_col3\" class=\"data row0 col3\" >200066.000000</td>\n",
       "    </tr>\n",
       "    <tr>\n",
       "      <th id=\"T_90042_level0_row1\" class=\"row_heading level0 row1\" >G</th>\n",
       "      <td id=\"T_90042_row1_col0\" class=\"data row1 col0\" >16875.000000</td>\n",
       "      <td id=\"T_90042_row1_col1\" class=\"data row1 col1\" >11812.000000</td>\n",
       "      <td id=\"T_90042_row1_col2\" class=\"data row1 col2\" >396234.000000</td>\n",
       "      <td id=\"T_90042_row1_col3\" class=\"data row1 col3\" >89579.000000</td>\n",
       "    </tr>\n",
       "    <tr>\n",
       "      <th id=\"T_90042_level0_row2\" class=\"row_heading level0 row2\" >C</th>\n",
       "      <td id=\"T_90042_row2_col0\" class=\"data row2 col0\" >13028.000000</td>\n",
       "      <td id=\"T_90042_row2_col1\" class=\"data row2 col1\" >364620.000000</td>\n",
       "      <td id=\"T_90042_row2_col2\" class=\"data row2 col2\" >7741.000000</td>\n",
       "      <td id=\"T_90042_row2_col3\" class=\"data row2 col3\" >9533.000000</td>\n",
       "    </tr>\n",
       "    <tr>\n",
       "      <th id=\"T_90042_level0_row3\" class=\"row_heading level0 row3\" >U</th>\n",
       "      <td id=\"T_90042_row3_col0\" class=\"data row3 col0\" >218269.000000</td>\n",
       "      <td id=\"T_90042_row3_col1\" class=\"data row3 col1\" >86131.000000</td>\n",
       "      <td id=\"T_90042_row3_col2\" class=\"data row3 col2\" >9047.000000</td>\n",
       "      <td id=\"T_90042_row3_col3\" class=\"data row3 col3\" >18956.000000</td>\n",
       "    </tr>\n",
       "  </tbody>\n",
       "</table>\n"
      ],
      "text/plain": [
       "<pandas.io.formats.style.Styler at 0x7fb081241d90>"
      ]
     },
     "execution_count": 12,
     "metadata": {},
     "output_type": "execute_result"
    }
   ],
   "source": [
    "df = pd.DataFrame(bases_matrix, index=index_map.keys(), columns=index_map.keys())\n",
    "styled_df = df.style.background_gradient(cmap='viridis')\n",
    "styled_df"
   ]
  },
  {
   "cell_type": "code",
   "execution_count": 17,
   "id": "6e0dbda7-ed01-4c18-8d2e-5ab32b4050a9",
   "metadata": {},
   "outputs": [
    {
     "data": {
      "image/png": "[encoded data removed]",
      "text/plain": [
       "<Figure size 640x480 with 1 Axes>"
      ]
     },
     "metadata": {},
     "output_type": "display_data"
    }
   ],
   "source": [
    "plt.hist(sequence_lengths,bins=50)\n",
    "plt.title(\"Distribution of sequence lengths\")\n",
    "plt.show()"
   ]
  },
  {
   "cell_type": "code",
   "execution_count": null,
   "id": "df2c2f8a-4739-4307-8b44-e7b1fb875f1d",
   "metadata": {},
   "outputs": [],
   "source": []
  }
 ],
 "metadata": {
  "kernelspec": {
   "display_name": "Python 3 (ipykernel)",
   "language": "python",
   "name": "python3"
  },
  "language_info": {
   "codemirror_mode": {
    "name": "ipython",
    "version": 3
   },
   "file_extension": ".py",
   "mimetype": "text/x-python",
   "name": "python",
   "nbconvert_exporter": "python",
   "pygments_lexer": "ipython3",
   "version": "3.11.8"
  }
 },
 "nbformat": 4,
 "nbformat_minor": 5
}
